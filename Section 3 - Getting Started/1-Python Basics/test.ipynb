{
 "cells": [
  {
   "cell_type": "markdown",
   "metadata": {},
   "source": [
    "# Syntax\n",
    "1. These are the set of rules that defines about the combination of symbols that are considered to be correctly structured in a programming language\n",
    "2. In simple terms - syntax is about the correct arrangement of the words and symbols in a code\n",
    "\n",
    "# Semantics\n",
    "1. It is about what the code is supposed to do when it runs"
   ]
  },
  {
   "cell_type": "code",
   "execution_count": 4,
   "metadata": {},
   "outputs": [
    {
     "data": {
      "text/plain": [
       "'\\nIn order to use a multiline comment\\n'"
      ]
     },
     "execution_count": 4,
     "metadata": {},
     "output_type": "execute_result"
    }
   ],
   "source": [
    "# Basic Syntax Rule in python \n",
    "# To use a single line comment \n",
    "'''\n",
    "In order to use a multiline comment\n",
    "'''"
   ]
  },
  {
   "cell_type": "code",
   "execution_count": 6,
   "metadata": {},
   "outputs": [
    {
     "name": "stdout",
     "output_type": "stream",
     "text": [
      "Vibhav\n",
      "Krishnan\n"
     ]
    }
   ],
   "source": [
    "# Case Sensitive - Python is a Case Sensitive Language \n",
    "# Both the variables below will be considered as different as Python is a Case Sensitive Language\n",
    "name = \"Vibhav\"\n",
    "Name = \"Krishnan\"\n",
    "print(name)\n",
    "print(Name)\n"
   ]
  },
  {
   "cell_type": "markdown",
   "metadata": {},
   "source": [
    "# Intendation\n",
    "1. Like other progrems - which used {} (curly braces) in order to identify a block of code(to delimit a block of code right)\n",
    "2. Python uses intendation to determine the grouping of statements \n",
    "3. This means all the statements within a block must be intended at the same level"
   ]
  },
  {
   "cell_type": "code",
   "execution_count": 12,
   "metadata": {},
   "outputs": [
    {
     "name": "stdout",
     "output_type": "stream",
     "text": [
      "11\n",
      "32\n"
     ]
    }
   ],
   "source": [
    "# Intendation \n",
    "# Python uses intendation to define blocks of code. Consistent use of spaces(commonly 4) or a tab is required\n",
    "age = 32\n",
    "if (age > 30):\n",
    "  print(11) # As you can see here once we hit enter after the if condition it automatically starts in the next line leaving 4 spaces\n",
    "\n",
    "print(age)"
   ]
  },
  {
   "cell_type": "code",
   "execution_count": 14,
   "metadata": {},
   "outputs": [
    {
     "name": "stdout",
     "output_type": "stream",
     "text": [
      "Hello World!!\n"
     ]
    }
   ],
   "source": [
    "# This is a single line comment\n",
    "# You can write these types of comment - when you are pushed into a case where you want to define a function and you want to describe what the function is doing you can use these type of comments\n",
    "print(\"Hello World!!\")"
   ]
  },
  {
   "cell_type": "code",
   "execution_count": 20,
   "metadata": {},
   "outputs": [
    {
     "name": "stdout",
     "output_type": "stream",
     "text": [
      "43\n"
     ]
    }
   ],
   "source": [
    "# Line Continuation\n",
    "\n",
    "# here if you use a (\\) then it continues in the next line without leaving any intendation issue \n",
    "# Learning - provided if you don't leave a space after (\\) \n",
    "total=1+2+3+4+5+6+7+\\\n",
    "4+5+6\n",
    "print(total)\n"
   ]
  },
  {
   "cell_type": "code",
   "execution_count": 21,
   "metadata": {},
   "outputs": [
    {
     "name": "stdout",
     "output_type": "stream",
     "text": [
      "5\n",
      "10\n",
      "15\n"
     ]
    }
   ],
   "source": [
    "# Multiple Statements on a Single line - we can use a semicolon(;)\n",
    "x=5;y=10;z=x+y\n",
    "print(x)\n",
    "print(y)\n",
    "print(z)"
   ]
  },
  {
   "cell_type": "code",
   "execution_count": 23,
   "metadata": {},
   "outputs": [
    {
     "name": "stdout",
     "output_type": "stream",
     "text": [
      "32\n",
      "Vibhav Krishnan\n"
     ]
    }
   ],
   "source": [
    "## Understanding Semantics In Python\n",
    "# Variable assignment\n",
    "# The python kernal basically understands this during runtime\n",
    "age=32 # age is an integer - Here in python it automatically understands what's the variable that we are going to assign to age - during the run time\n",
    "name=\"Vibhav Krishnan\" # name - This will be a string\n",
    "print(age)\n",
    "print(name)\n"
   ]
  },
  {
   "cell_type": "code",
   "execution_count": 27,
   "metadata": {},
   "outputs": [
    {
     "data": {
      "text/plain": [
       "int"
      ]
     },
     "execution_count": 27,
     "metadata": {},
     "output_type": "execute_result"
    }
   ],
   "source": [
    "# If you try to code two types in a single block it will show you the datatype of only the last type() line block\n",
    "type(age)"
   ]
  },
  {
   "cell_type": "code",
   "execution_count": 29,
   "metadata": {},
   "outputs": [
    {
     "data": {
      "text/plain": [
       "str"
      ]
     },
     "execution_count": 29,
     "metadata": {},
     "output_type": "execute_result"
    }
   ],
   "source": [
    "# If you try to code two types in a single block it will show you the datatype of only the last type() line block\n",
    "type(name)"
   ]
  },
  {
   "cell_type": "code",
   "execution_count": 40,
   "metadata": {},
   "outputs": [
    {
     "name": "stdout",
     "output_type": "stream",
     "text": [
      "<class 'int'>\n"
     ]
    }
   ],
   "source": [
    "# Type Inference - this is when the programming language automatically determines the type of variable or expression at compile time or run-time without requiring explicit type annotations\n",
    "variable = 10\n",
    "print(type(variable))"
   ]
  },
  {
   "cell_type": "code",
   "execution_count": 41,
   "metadata": {},
   "outputs": [
    {
     "name": "stdout",
     "output_type": "stream",
     "text": [
      "<class 'int'>\n"
     ]
    }
   ],
   "source": [
    "print(type(variable))"
   ]
  },
  {
   "cell_type": "code",
   "execution_count": 43,
   "metadata": {},
   "outputs": [
    {
     "name": "stdout",
     "output_type": "stream",
     "text": [
      "<class 'str'>\n",
      "<class 'int'>\n"
     ]
    }
   ],
   "source": [
    "variable = \"Vibhav\"\n",
    "print(type(variable)) # we get \"str\" here for the variable\n",
    "# If we assign another type/value to a variable - in the next line itself then if we try to print the type then it will change the datatype automatically\n",
    "variable = 10\n",
    "print(type(variable)) # For the same variable here we get \"int\" "
   ]
  },
  {
   "cell_type": "code",
   "execution_count": 45,
   "metadata": {},
   "outputs": [
    {
     "ename": "IndentationError",
     "evalue": "expected an indented block after 'if' statement on line 3 (4139266794.py, line 4)",
     "output_type": "error",
     "traceback": [
      "\u001b[1;36m  Cell \u001b[1;32mIn[45], line 4\u001b[1;36m\u001b[0m\n\u001b[1;33m    print(age)\u001b[0m\n\u001b[1;37m    ^\u001b[0m\n\u001b[1;31mIndentationError\u001b[0m\u001b[1;31m:\u001b[0m expected an indented block after 'if' statement on line 3\n"
     ]
    }
   ],
   "source": [
    "# What happens if i don't use intendation - I get an intendation error\n",
    "age = 32\n",
    "if age > 30:\n",
    "print(age)"
   ]
  },
  {
   "cell_type": "code",
   "execution_count": null,
   "metadata": {},
   "outputs": [],
   "source": []
  }
 ],
 "metadata": {
  "kernelspec": {
   "display_name": "cuda_env_torch",
   "language": "python",
   "name": "python3"
  },
  "language_info": {
   "codemirror_mode": {
    "name": "ipython",
    "version": 3
   },
   "file_extension": ".py",
   "mimetype": "text/x-python",
   "name": "python",
   "nbconvert_exporter": "python",
   "pygments_lexer": "ipython3",
   "version": "3.10.14"
  }
 },
 "nbformat": 4,
 "nbformat_minor": 2
}
