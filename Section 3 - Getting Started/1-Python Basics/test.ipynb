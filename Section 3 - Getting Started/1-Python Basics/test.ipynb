{
 "cells": [
  {
   "cell_type": "markdown",
   "metadata": {},
   "source": [
    "# Syntax\n",
    "1. These are the set of rules that defines about the combination of symbols that are considered to be correctly structured in a programming language\n",
    "2. In simple terms - syntax is about the correct arrangement of the words and symbols in a code\n",
    "\n",
    "# Semantics\n",
    "1. It is about what the code is supposed to do when it runs"
   ]
  },
  {
   "cell_type": "code",
   "execution_count": 4,
   "metadata": {},
   "outputs": [
    {
     "data": {
      "text/plain": [
       "'\\nIn order to use a multiline comment\\n'"
      ]
     },
     "execution_count": 4,
     "metadata": {},
     "output_type": "execute_result"
    }
   ],
   "source": [
    "# Basic Syntax Rule in python \n",
    "# To use a single line comment \n",
    "'''\n",
    "In order to use a multiline comment\n",
    "'''"
   ]
  },
  {
   "cell_type": "code",
   "execution_count": 5,
   "metadata": {},
   "outputs": [
    {
     "name": "stdout",
     "output_type": "stream",
     "text": [
      "Vibhav\n",
      "Krishnan\n"
     ]
    }
   ],
   "source": [
    "# Case Sensitive - Python is a Case Sensitive Language \n",
    "# Both the variables below will be considered as different as Python is a Case Sensitive Language\n",
    "name = \"Vibhav\"\n",
    "Name = \"Krishnan\"\n",
    "print(name)\n",
    "print(Name)\n"
   ]
  },
  {
   "cell_type": "code",
   "execution_count": null,
   "metadata": {},
   "outputs": [],
   "source": [
    "# Intendation \n",
    "# Python uses "
   ]
  },
  {
   "cell_type": "code",
   "execution_count": null,
   "metadata": {},
   "outputs": [],
   "source": []
  }
 ],
 "metadata": {
  "kernelspec": {
   "display_name": "cuda_env_torch",
   "language": "python",
   "name": "python3"
  },
  "language_info": {
   "codemirror_mode": {
    "name": "ipython",
    "version": 3
   },
   "file_extension": ".py",
   "mimetype": "text/x-python",
   "name": "python",
   "nbconvert_exporter": "python",
   "pygments_lexer": "ipython3",
   "version": "3.10.14"
  }
 },
 "nbformat": 4,
 "nbformat_minor": 2
}
