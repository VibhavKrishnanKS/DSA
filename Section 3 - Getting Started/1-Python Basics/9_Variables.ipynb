{
 "cells": [
  {
   "cell_type": "markdown",
   "metadata": {},
   "source": [
    "# Variables in Python \n",
    "\n",
    "1. Variables are basically **Fundamental Elements in programming** used to store data that can be **referenced and manipulated** in a program. In Python, variables are created when you assign a value to them, and they do not need explicit declaration to reserve memory space. The declaration happens automatically when you assign a value to the variable"
   ]
  },
  {
   "cell_type": "code",
   "execution_count": 7,
   "metadata": {},
   "outputs": [],
   "source": [
    "# The below one basically defines a variable(a) and have assigned a value 100\n",
    "a = 100 "
   ]
  },
  {
   "cell_type": "code",
   "execution_count": 8,
   "metadata": {},
   "outputs": [],
   "source": [
    "## Declaring and assigning variables \n",
    "age = 21  # An integer variable\n",
    "height = 5.10 # A float variable\n",
    "name = \"Vibhav\" # A String variable\n",
    "is_student = True # A boolean variable"
   ]
  },
  {
   "cell_type": "code",
   "execution_count": 10,
   "metadata": {},
   "outputs": [
    {
     "name": "stdout",
     "output_type": "stream",
     "text": [
      "age: 21\n",
      "height: 5.1\n",
      "name: Vibhav\n",
      "is_student: True\n"
     ]
    }
   ],
   "source": [
    "## printing the variables \n",
    "print(\"age:\",age)\n",
    "print(\"height:\",height)\n",
    "print(\"name:\",name)\n",
    "print(\"is_student:\",is_student)"
   ]
  },
  {
   "cell_type": "markdown",
   "metadata": {},
   "source": [
    "## Naming Convention - how should we name a variable\n",
    "1. Variable names should be **descriptive**\n",
    "2. They must start with a letter or '_' and they must **only contain letters,numbers and underscores**\n",
    "3. Variable names are **Case Sensitive**"
   ]
  },
  {
   "cell_type": "code",
   "execution_count": 16,
   "metadata": {},
   "outputs": [],
   "source": [
    "# Valid Variable name \n",
    "first_name = \"Vibhav\"\n",
    "last_name = \"Krishnan\""
   ]
  },
  {
   "cell_type": "code",
   "execution_count": 17,
   "metadata": {},
   "outputs": [],
   "source": [
    "## Invalid Variable names \n",
    "# 2age = 30 - you will get invalid decimal literal error for this \n",
    "# first-name = \"Vibhav\" - you will get invalid syntax error for this, can't use hyphen in variable names\n",
    "# @name = \"Vibhav\" - you will get invalid syntax error for this, can't use special characters in variable names"
   ]
  },
  {
   "cell_type": "code",
   "execution_count": 18,
   "metadata": {},
   "outputs": [],
   "source": [
    "## Case sensitive\n",
    "# Python is case sensitive language, so below two variables are different\n",
    "name = \"Vibhav\"\n",
    "Name = \"Krishnan\""
   ]
  },
  {
   "cell_type": "code",
   "execution_count": 15,
   "metadata": {},
   "outputs": [],
   "source": [
    "## Understanding variable types\n",
    "## Python is dynamically typed language, which means you don't have to declare the type of the variable\n",
    "## Type of the variables is determined at the runtime by the value that is assigned to it\n"
   ]
  },
  {
   "cell_type": "code",
   "execution_count": null,
   "metadata": {},
   "outputs": [],
   "source": []
  }
 ],
 "metadata": {
  "kernelspec": {
   "display_name": "cuda_env_torch",
   "language": "python",
   "name": "python3"
  },
  "language_info": {
   "codemirror_mode": {
    "name": "ipython",
    "version": 3
   },
   "file_extension": ".py",
   "mimetype": "text/x-python",
   "name": "python",
   "nbconvert_exporter": "python",
   "pygments_lexer": "ipython3",
   "version": "3.10.14"
  }
 },
 "nbformat": 4,
 "nbformat_minor": 2
}
