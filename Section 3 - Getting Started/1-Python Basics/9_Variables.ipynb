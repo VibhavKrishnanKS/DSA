{
 "cells": [
  {
   "cell_type": "markdown",
   "metadata": {},
   "source": [
    "# Variables in Python \n",
    "\n",
    "1. Variables are basically **Fundamental Elements in programming** used to store data that can be **referenced and manipulated** in a program. In Python, variables are created when you assign a value to them, and they do not need explicit declaration to reserve memory space. The declaration happens automatically when you assign a value to the variable"
   ]
  },
  {
   "cell_type": "code",
   "execution_count": 7,
   "metadata": {},
   "outputs": [],
   "source": [
    "# The below one basically defines a variable(a) and have assigned a value 100\n",
    "a = 100 "
   ]
  },
  {
   "cell_type": "code",
   "execution_count": 8,
   "metadata": {},
   "outputs": [],
   "source": [
    "## Declaring and assigning variables \n",
    "age = 21  # An integer variable\n",
    "height = 5.10 # A float variable\n",
    "name = \"Vibhav\" # A String variable\n",
    "is_student = True # A boolean variable"
   ]
  },
  {
   "cell_type": "code",
   "execution_count": 10,
   "metadata": {},
   "outputs": [
    {
     "name": "stdout",
     "output_type": "stream",
     "text": [
      "age: 21\n",
      "height: 5.1\n",
      "name: Vibhav\n",
      "is_student: True\n"
     ]
    }
   ],
   "source": [
    "## printing the variables \n",
    "print(\"age:\",age)\n",
    "print(\"height:\",height)\n",
    "print(\"name:\",name)\n",
    "print(\"is_student:\",is_student)"
   ]
  },
  {
   "cell_type": "markdown",
   "metadata": {},
   "source": [
    "## Naming Convention - how should we name a variable\n",
    "1. Variable names should be **descriptive**\n",
    "2. They must start with a letter or '_' and they must **only contain letters,numbers and underscores**\n",
    "3. Variable names are **Case Sensitive**"
   ]
  },
  {
   "cell_type": "code",
   "execution_count": 16,
   "metadata": {},
   "outputs": [],
   "source": [
    "# Valid Variable name \n",
    "first_name = \"Vibhav\"\n",
    "last_name = \"Krishnan\""
   ]
  },
  {
   "cell_type": "code",
   "execution_count": 17,
   "metadata": {},
   "outputs": [],
   "source": [
    "## Invalid Variable names \n",
    "# 2age = 30 - you will get invalid decimal literal error for this \n",
    "# first-name = \"Vibhav\" - you will get invalid syntax error for this, can't use hyphen in variable names\n",
    "# @name = \"Vibhav\" - you will get invalid syntax error for this, can't use special characters in variable names"
   ]
  },
  {
   "cell_type": "code",
   "execution_count": 18,
   "metadata": {},
   "outputs": [],
   "source": [
    "## Case sensitive\n",
    "# Python is case sensitive language, so below two variables are different\n",
    "name = \"Vibhav\"\n",
    "Name = \"Krishnan\""
   ]
  },
  {
   "cell_type": "code",
   "execution_count": 28,
   "metadata": {},
   "outputs": [
    {
     "name": "stdout",
     "output_type": "stream",
     "text": [
      "Type of age: <class 'int'>\n",
      "Type of height: <class 'float'>\n",
      "Type of is_student: <class 'bool'>\n"
     ]
    }
   ],
   "source": [
    "## Understanding variable types\n",
    "## Python is dynamically typed language, which means you don't have to declare the type of the variable\n",
    "## Type of the variables is determined at the runtime by the value that is assigned to it\n",
    "age = 25 # Integer\n",
    "height = 5.10 # Float\n",
    "is_student = True # Boolean\n",
    "\n",
    "print(\"Type of age:\",type(age))\n",
    "print(\"Type of height:\",type(height))\n",
    "print(\"Type of is_student:\",type(is_student))"
   ]
  },
  {
   "cell_type": "markdown",
   "metadata": {},
   "source": [
    "# Type Conversion\n",
    "\n",
    "1. Integer -> String (This is possible)\n",
    "2. String (if so a number is given as a string) -> Integer (This is possible)\n",
    "3. String (if so a name is given as a string) -> Integer (This is not possible) - **NOTE**\n",
    "4. Float -> Integer (This is possible)\n",
    "5. Integer -> Float (This is possible)\n"
   ]
  },
  {
   "cell_type": "code",
   "execution_count": 20,
   "metadata": {},
   "outputs": [
    {
     "name": "stdout",
     "output_type": "stream",
     "text": [
      "<class 'int'>\n",
      "25\n",
      "<class 'str'>\n"
     ]
    }
   ],
   "source": [
    "## Type Checking and Conversion\n",
    "## Can we convert one type to another type?\n",
    "age = 25\n",
    "print(type(age)) # initially it is integer\n",
    "\n",
    "## Type Conversion \n",
    "age_str = str(age)\n",
    "print(age_str)\n",
    "print(type(age_str)) # Later on after performing the type conversion, it is string"
   ]
  },
  {
   "cell_type": "code",
   "execution_count": 21,
   "metadata": {},
   "outputs": [
    {
     "name": "stdout",
     "output_type": "stream",
     "text": [
      "<class 'int'>\n"
     ]
    }
   ],
   "source": [
    "## What type of conversions i can do - Here we try to convert string to integer\n",
    "age = '25'\n",
    "print(type(int(age)))"
   ]
  },
  {
   "cell_type": "code",
   "execution_count": 24,
   "metadata": {},
   "outputs": [],
   "source": [
    "## What if we try to convert the string to integer, but the string is not a number\n",
    "name = \"Virat\"\n",
    "# int(name) # invalid literal for int() with base 10: 'Virat'"
   ]
  },
  {
   "cell_type": "code",
   "execution_count": 27,
   "metadata": {},
   "outputs": [
    {
     "name": "stdout",
     "output_type": "stream",
     "text": [
      "<class 'int'>\n",
      "<class 'float'>\n"
     ]
    }
   ],
   "source": [
    "height = 5.10\n",
    "type(height) # Float\n",
    "# Is it possible to convert this float into an integer\n",
    "print(type(int(height)))\n",
    "# Is it possible to convert this float into an integer again \n",
    "# Yes it is possible \n",
    "print(type(float(int(height))))"
   ]
  },
  {
   "cell_type": "code",
   "execution_count": 31,
   "metadata": {},
   "outputs": [
    {
     "name": "stdout",
     "output_type": "stream",
     "text": [
      "10 <class 'int'>\n",
      "Hello <class 'str'>\n",
      "3.14 <class 'float'>\n"
     ]
    }
   ],
   "source": [
    "## Dynamic Typing\n",
    "## Python allows the type of variable to change as the program executes\n",
    "\n",
    "var = 10\n",
    "print(var,type(var))\n",
    "\n",
    "var = \"Hello\"\n",
    "print(var,type(var))\n",
    "\n",
    "var = 3.14\n",
    "print(var,type(var))\n"
   ]
  },
  {
   "cell_type": "code",
   "execution_count": 35,
   "metadata": {},
   "outputs": [
    {
     "name": "stdout",
     "output_type": "stream",
     "text": [
      "Your age is: 21\n",
      "<class 'str'>\n"
     ]
    }
   ],
   "source": [
    "## input - Suppose say a user wants to enter the value of the variable\n",
    "\n",
    "age = input(\"Enter your age:\") # Based on the input that is assigned to the variable, the type of the variable is determined\n",
    "print(\"Your age is:\",age)\n",
    "print(type(age))"
   ]
  },
  {
   "cell_type": "code",
   "execution_count": 41,
   "metadata": {},
   "outputs": [
    {
     "name": "stdout",
     "output_type": "stream",
     "text": [
      "12 <class 'int'>\n"
     ]
    }
   ],
   "source": [
    "## Suppose say i want to type case the input that is entered to a specific value \n",
    "age = int(input(\"Enter your age:\"))  # You will get an error if you enter a string here\n",
    "print(age,type(age))"
   ]
  },
  {
   "cell_type": "code",
   "execution_count": 44,
   "metadata": {},
   "outputs": [
    {
     "name": "stdout",
     "output_type": "stream",
     "text": [
      "First Number: 12.0\n",
      "Second Number: 4.0\n",
      "Sum: 16.0\n",
      "Difference: 8.0\n",
      "Product: 48.0\n",
      "Division: 3.0\n"
     ]
    }
   ],
   "source": [
    "## Creating a Simple Calculator\n",
    "\n",
    "num1 = float(input(\"Enter the first number:\"))\n",
    "num2 = float(input(\"Enter the second number:\"))\n",
    "\n",
    "print(\"First Number:\",num1)\n",
    "print(\"Second Number:\",num2)\n",
    "\n",
    "sum = num1 + num2\n",
    "differece = num1 - num2\n",
    "product = num1 * num2\n",
    "division = num1 / num2\n",
    "\n",
    "print(\"Sum:\",sum)\n",
    "print(\"Difference:\",differece)\n",
    "print(\"Product:\",product)\n",
    "print(\"Division:\",division)"
   ]
  }
 ],
 "metadata": {
  "kernelspec": {
   "display_name": "cuda_env_torch",
   "language": "python",
   "name": "python3"
  },
  "language_info": {
   "codemirror_mode": {
    "name": "ipython",
    "version": 3
   },
   "file_extension": ".py",
   "mimetype": "text/x-python",
   "name": "python",
   "nbconvert_exporter": "python",
   "pygments_lexer": "ipython3",
   "version": "3.10.14"
  }
 },
 "nbformat": 4,
 "nbformat_minor": 2
}
